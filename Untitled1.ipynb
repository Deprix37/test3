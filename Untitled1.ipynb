{
 "cells": [
  {
   "cell_type": "code",
   "execution_count": 2,
   "id": "e9ddcd0d",
   "metadata": {},
   "outputs": [
    {
     "name": "stdout",
     "output_type": "stream",
     "text": [
      "['nowplaying', 'PBS', 'job', 'debate', 'thenandnow']\n"
     ]
    }
   ],
   "source": [
    "used = set()\n",
    "mylist = [u'nowplaying', u'PBS', u'PBS', u'nowplaying', u'job', u'debate', u'thenandnow']\n",
    "unique = [x for x in mylist if x not in used and (used.add(x) or True)]\n",
    "print(unique)"
   ]
  },
  {
   "cell_type": "code",
   "execution_count": 4,
   "id": "3fbb07ef",
   "metadata": {},
   "outputs": [
    {
     "ename": "SyntaxError",
     "evalue": "invalid syntax (875191023.py, line 4)",
     "output_type": "error",
     "traceback": [
      "\u001b[1;36m  File \u001b[1;32m\"C:\\Users\\user\\AppData\\Local\\Temp\\ipykernel_7872\\875191023.py\"\u001b[1;36m, line \u001b[1;32m4\u001b[0m\n\u001b[1;33m    print(a[0])}\u001b[0m\n\u001b[1;37m    ^\u001b[0m\n\u001b[1;31mSyntaxError\u001b[0m\u001b[1;31m:\u001b[0m invalid syntax\n"
     ]
    }
   ],
   "source": [
    "a = \"aac\"\n",
    "mylist= [a]"
   ]
  },
  {
   "cell_type": "code",
   "execution_count": 5,
   "id": "9dde2062",
   "metadata": {},
   "outputs": [
    {
     "name": "stdout",
     "output_type": "stream",
     "text": [
      "['a', 'b', 'c', 'd']\n"
     ]
    }
   ],
   "source": [
    "used = set()\n",
    "mylist = [u'a', u'b', u'b', u'c', u'c', u'd', u'c']\n",
    "unique = [x for x in mylist if x not in used and (used.add(x) or True)]\n",
    "print(unique)"
   ]
  },
  {
   "cell_type": "code",
   "execution_count": 6,
   "id": "cb128d44",
   "metadata": {},
   "outputs": [
    {
     "name": "stdout",
     "output_type": "stream",
     "text": [
      "['nowplaying', 'PBS', 'job', 'debate', 'thenandnow']\n"
     ]
    }
   ],
   "source": [
    "used = set()\n",
    "mylist = [u'nowplaying', u'PBS', u'PBS', u'nowplaying', u'job', u'debate', u'thenandnow']\n",
    "unique = [x for x in mylist if x not in used and (used.add(x) or True)]\n",
    "print(unique)"
   ]
  },
  {
   "cell_type": "code",
   "execution_count": 8,
   "id": "92052ab2",
   "metadata": {},
   "outputs": [
    {
     "ename": "NameError",
     "evalue": "name 'tekrarlanmayan_karakter' is not defined",
     "output_type": "error",
     "traceback": [
      "\u001b[1;31m---------------------------------------------------------------------------\u001b[0m",
      "\u001b[1;31mNameError\u001b[0m                                 Traceback (most recent call last)",
      "\u001b[1;32m~\\AppData\\Local\\Temp\\ipykernel_7872\\2526111689.py\u001b[0m in \u001b[0;36m<module>\u001b[1;34m\u001b[0m\n\u001b[0;32m      4\u001b[0m \u001b[1;32mfor\u001b[0m \u001b[0mkarakter\u001b[0m \u001b[1;32min\u001b[0m \u001b[0mstr\u001b[0m\u001b[1;33m:\u001b[0m\u001b[1;33m\u001b[0m\u001b[1;33m\u001b[0m\u001b[0m\n\u001b[0;32m      5\u001b[0m     \u001b[1;32mif\u001b[0m \u001b[0mstr\u001b[0m\u001b[1;33m.\u001b[0m\u001b[0mcount\u001b[0m\u001b[1;33m(\u001b[0m\u001b[0mkarakter\u001b[0m\u001b[1;33m)\u001b[0m \u001b[1;33m==\u001b[0m \u001b[1;36m1\u001b[0m\u001b[1;33m:\u001b[0m\u001b[1;33m\u001b[0m\u001b[1;33m\u001b[0m\u001b[0m\n\u001b[1;32m----> 6\u001b[1;33m         \u001b[0mtekrarlanmayan_karakter\u001b[0m \u001b[1;33m+=\u001b[0m \u001b[0mharf\u001b[0m\u001b[1;33m\u001b[0m\u001b[1;33m\u001b[0m\u001b[0m\n\u001b[0m\u001b[0;32m      7\u001b[0m \u001b[1;33m\u001b[0m\u001b[0m\n\u001b[0;32m      8\u001b[0m \u001b[0mprint\u001b[0m\u001b[1;33m(\u001b[0m\u001b[1;34m\"Kelimenin içindeki tekrarlanmayan harfler: \"\u001b[0m \u001b[1;33m+\u001b[0m \u001b[0mtekrarlanmayan_harfler\u001b[0m\u001b[1;33m)\u001b[0m\u001b[1;33m\u001b[0m\u001b[1;33m\u001b[0m\u001b[0m\n",
      "\u001b[1;31mNameError\u001b[0m: name 'tekrarlanmayan_karakter' is not defined"
     ]
    }
   ],
   "source": [
    "str = \"abbccddddeeee\"\n",
    "tekrarsiz_karakter = \"\"\n",
    "\n",
    "for karakter in str:\n",
    "    if str.count(karakter) == 1:\n",
    "        tekrarlanmayan_karakter += harf\n",
    "\n",
    "print(\"Kelimenin içindeki tekrarlanmayan harfler: \" + tekrarlanmayan_harfler)"
   ]
  },
  {
   "cell_type": "code",
   "execution_count": 9,
   "id": "571b7bdb",
   "metadata": {},
   "outputs": [
    {
     "name": "stdout",
     "output_type": "stream",
     "text": [
      "e\n"
     ]
    }
   ],
   "source": [
    "str = \"abbccddddeeee\"\n",
    "tekrarsiz_karakter = \"\"\n",
    "\n",
    "for karakter in str:\n",
    "    if str.count(karakter) == 1:\n",
    "        tekrarsiz_karakter += harf\n",
    "\n",
    "print(tekrarsiz_karakter)"
   ]
  },
  {
   "cell_type": "code",
   "execution_count": 10,
   "id": "c3deabc1",
   "metadata": {},
   "outputs": [
    {
     "ename": "NameError",
     "evalue": "name 'tekrarlanmayan_karakter' is not defined",
     "output_type": "error",
     "traceback": [
      "\u001b[1;31m---------------------------------------------------------------------------\u001b[0m",
      "\u001b[1;31mNameError\u001b[0m                                 Traceback (most recent call last)",
      "\u001b[1;32m~\\AppData\\Local\\Temp\\ipykernel_7872\\2526111689.py\u001b[0m in \u001b[0;36m<module>\u001b[1;34m\u001b[0m\n\u001b[0;32m      4\u001b[0m \u001b[1;32mfor\u001b[0m \u001b[0mkarakter\u001b[0m \u001b[1;32min\u001b[0m \u001b[0mstr\u001b[0m\u001b[1;33m:\u001b[0m\u001b[1;33m\u001b[0m\u001b[1;33m\u001b[0m\u001b[0m\n\u001b[0;32m      5\u001b[0m     \u001b[1;32mif\u001b[0m \u001b[0mstr\u001b[0m\u001b[1;33m.\u001b[0m\u001b[0mcount\u001b[0m\u001b[1;33m(\u001b[0m\u001b[0mkarakter\u001b[0m\u001b[1;33m)\u001b[0m \u001b[1;33m==\u001b[0m \u001b[1;36m1\u001b[0m\u001b[1;33m:\u001b[0m\u001b[1;33m\u001b[0m\u001b[1;33m\u001b[0m\u001b[0m\n\u001b[1;32m----> 6\u001b[1;33m         \u001b[0mtekrarlanmayan_karakter\u001b[0m \u001b[1;33m+=\u001b[0m \u001b[0mharf\u001b[0m\u001b[1;33m\u001b[0m\u001b[1;33m\u001b[0m\u001b[0m\n\u001b[0m\u001b[0;32m      7\u001b[0m \u001b[1;33m\u001b[0m\u001b[0m\n\u001b[0;32m      8\u001b[0m \u001b[0mprint\u001b[0m\u001b[1;33m(\u001b[0m\u001b[1;34m\"Kelimenin içindeki tekrarlanmayan harfler: \"\u001b[0m \u001b[1;33m+\u001b[0m \u001b[0mtekrarlanmayan_harfler\u001b[0m\u001b[1;33m)\u001b[0m\u001b[1;33m\u001b[0m\u001b[1;33m\u001b[0m\u001b[0m\n",
      "\u001b[1;31mNameError\u001b[0m: name 'tekrarlanmayan_karakter' is not defined"
     ]
    }
   ],
   "source": [
    "str = \"abbccddddeeee\"\n",
    "tekrarsiz_karakter = \"\"\n",
    "\n",
    "for karakter in str:\n",
    "    if str.count(karakter) == 1:\n",
    "        tekrarlanmayan_karakter += harf\n",
    "\n",
    "print(\"Kelimenin içindeki tekrarlanmayan harfler: \" + tekrarlanmayan_harfler)"
   ]
  },
  {
   "cell_type": "code",
   "execution_count": 11,
   "id": "56588a84",
   "metadata": {},
   "outputs": [
    {
     "name": "stdout",
     "output_type": "stream",
     "text": [
      "af\n"
     ]
    }
   ],
   "source": [
    "str = \"abbbcccdddeeef\"\n",
    "tekrarsiz_karakter = \"\"\n",
    "\n",
    "for harf in str:\n",
    "    if str.count(harf) == 1:\n",
    "        tekrarsiz_karakter += harf\n",
    "\n",
    "print( tekrarsiz_karakter)"
   ]
  },
  {
   "cell_type": "code",
   "execution_count": 12,
   "id": "2f9e081f",
   "metadata": {},
   "outputs": [
    {
     "name": "stdout",
     "output_type": "stream",
     "text": [
      "bbbcccdddeee\n"
     ]
    }
   ],
   "source": [
    "str = \"abbbcccdddeeef\"\n",
    "tekrarsiz_karakter = \"\"\n",
    "\n",
    "for harf in str:\n",
    "    if str.count(harf) == 3:\n",
    "        tekrarsiz_karakter += harf\n",
    "\n",
    "print( tekrarsiz_karakter)"
   ]
  },
  {
   "cell_type": "code",
   "execution_count": null,
   "id": "df3d16e3",
   "metadata": {},
   "outputs": [],
   "source": []
  }
 ],
 "metadata": {
  "kernelspec": {
   "display_name": "Python 3 (ipykernel)",
   "language": "python",
   "name": "python3"
  },
  "language_info": {
   "codemirror_mode": {
    "name": "ipython",
    "version": 3
   },
   "file_extension": ".py",
   "mimetype": "text/x-python",
   "name": "python",
   "nbconvert_exporter": "python",
   "pygments_lexer": "ipython3",
   "version": "3.9.13"
  }
 },
 "nbformat": 4,
 "nbformat_minor": 5
}
