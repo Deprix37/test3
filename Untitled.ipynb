{
 "cells": [
  {
   "cell_type": "code",
   "execution_count": 1,
   "id": "6a64b229",
   "metadata": {},
   "outputs": [
    {
     "data": {
      "text/plain": [
       "4"
      ]
     },
     "execution_count": 1,
     "metadata": {},
     "output_type": "execute_result"
    }
   ],
   "source": [
    "2+2"
   ]
  },
  {
   "cell_type": "code",
   "execution_count": 2,
   "id": "92841ffa",
   "metadata": {},
   "outputs": [
    {
     "data": {
      "text/plain": [
       "0.24"
      ]
     },
     "execution_count": 2,
     "metadata": {},
     "output_type": "execute_result"
    }
   ],
   "source": [
    "2.4*0.1"
   ]
  },
  {
   "cell_type": "code",
   "execution_count": 3,
   "id": "e1dbe0f7",
   "metadata": {},
   "outputs": [
    {
     "ename": "NameError",
     "evalue": "name 'ahmet' is not defined",
     "output_type": "error",
     "traceback": [
      "\u001b[1;31m---------------------------------------------------------------------------\u001b[0m",
      "\u001b[1;31mNameError\u001b[0m                                 Traceback (most recent call last)",
      "\u001b[1;32m~\\AppData\\Local\\Temp\\ipykernel_636\\3954940834.py\u001b[0m in \u001b[0;36m<module>\u001b[1;34m\u001b[0m\n\u001b[1;32m----> 1\u001b[1;33m \u001b[0mmurat\u001b[0m \u001b[1;33m=\u001b[0m \u001b[0mahmet\u001b[0m\u001b[1;33m\u001b[0m\u001b[1;33m\u001b[0m\u001b[0m\n\u001b[0m",
      "\u001b[1;31mNameError\u001b[0m: name 'ahmet' is not defined"
     ]
    }
   ],
   "source": [
    "murat = ahmet"
   ]
  },
  {
   "cell_type": "code",
   "execution_count": 4,
   "id": "b1af4c77",
   "metadata": {},
   "outputs": [
    {
     "ename": "NameError",
     "evalue": "name 'murat' is not defined",
     "output_type": "error",
     "traceback": [
      "\u001b[1;31m---------------------------------------------------------------------------\u001b[0m",
      "\u001b[1;31mNameError\u001b[0m                                 Traceback (most recent call last)",
      "\u001b[1;32m~\\AppData\\Local\\Temp\\ipykernel_636\\1346711995.py\u001b[0m in \u001b[0;36m<module>\u001b[1;34m\u001b[0m\n\u001b[1;32m----> 1\u001b[1;33m \u001b[0mmurat\u001b[0m\u001b[1;33m\u001b[0m\u001b[1;33m\u001b[0m\u001b[0m\n\u001b[0m",
      "\u001b[1;31mNameError\u001b[0m: name 'murat' is not defined"
     ]
    }
   ],
   "source": [
    "murat"
   ]
  },
  {
   "cell_type": "code",
   "execution_count": 5,
   "id": "e582ac4f",
   "metadata": {},
   "outputs": [],
   "source": [
    "ahmet = 10"
   ]
  },
  {
   "cell_type": "code",
   "execution_count": 6,
   "id": "a9d815ca",
   "metadata": {},
   "outputs": [
    {
     "data": {
      "text/plain": [
       "10"
      ]
     },
     "execution_count": 6,
     "metadata": {},
     "output_type": "execute_result"
    }
   ],
   "source": [
    "ahmet"
   ]
  },
  {
   "cell_type": "code",
   "execution_count": 7,
   "id": "2150656d",
   "metadata": {},
   "outputs": [],
   "source": [
    "ahmet = 12.2"
   ]
  },
  {
   "cell_type": "code",
   "execution_count": 8,
   "id": "81820d06",
   "metadata": {},
   "outputs": [
    {
     "data": {
      "text/plain": [
       "12.2"
      ]
     },
     "execution_count": 8,
     "metadata": {},
     "output_type": "execute_result"
    }
   ],
   "source": [
    "ahmet"
   ]
  },
  {
   "cell_type": "code",
   "execution_count": 9,
   "id": "66a84832",
   "metadata": {},
   "outputs": [],
   "source": [
    "ahmet= \"murat\""
   ]
  },
  {
   "cell_type": "code",
   "execution_count": 10,
   "id": "9d52d21b",
   "metadata": {},
   "outputs": [
    {
     "data": {
      "text/plain": [
       "'murat'"
      ]
     },
     "execution_count": 10,
     "metadata": {},
     "output_type": "execute_result"
    }
   ],
   "source": [
    "ahmet"
   ]
  },
  {
   "cell_type": "code",
   "execution_count": 11,
   "id": "a0171db1",
   "metadata": {},
   "outputs": [
    {
     "ename": "NameError",
     "evalue": "name 'selin' is not defined",
     "output_type": "error",
     "traceback": [
      "\u001b[1;31m---------------------------------------------------------------------------\u001b[0m",
      "\u001b[1;31mNameError\u001b[0m                                 Traceback (most recent call last)",
      "\u001b[1;32m~\\AppData\\Local\\Temp\\ipykernel_636\\1843660877.py\u001b[0m in \u001b[0;36m<module>\u001b[1;34m\u001b[0m\n\u001b[1;32m----> 1\u001b[1;33m \u001b[0mselin\u001b[0m\u001b[1;33m\u001b[0m\u001b[1;33m\u001b[0m\u001b[0m\n\u001b[0m",
      "\u001b[1;31mNameError\u001b[0m: name 'selin' is not defined"
     ]
    }
   ],
   "source": [
    "selin"
   ]
  },
  {
   "cell_type": "code",
   "execution_count": 12,
   "id": "85c45880",
   "metadata": {},
   "outputs": [],
   "source": [
    "selin = 3"
   ]
  },
  {
   "cell_type": "code",
   "execution_count": 13,
   "id": "8382ecde",
   "metadata": {},
   "outputs": [
    {
     "data": {
      "text/plain": [
       "3"
      ]
     },
     "execution_count": 13,
     "metadata": {},
     "output_type": "execute_result"
    }
   ],
   "source": [
    "selin"
   ]
  },
  {
   "cell_type": "code",
   "execution_count": 14,
   "id": "72817685",
   "metadata": {},
   "outputs": [],
   "source": [
    "selin = 2.4\n"
   ]
  },
  {
   "cell_type": "code",
   "execution_count": 15,
   "id": "e9f1ba5e",
   "metadata": {},
   "outputs": [
    {
     "data": {
      "text/plain": [
       "2.4"
      ]
     },
     "execution_count": 15,
     "metadata": {},
     "output_type": "execute_result"
    }
   ],
   "source": [
    "selin"
   ]
  },
  {
   "cell_type": "code",
   "execution_count": 16,
   "id": "7d90f471",
   "metadata": {},
   "outputs": [],
   "source": [
    "a = 3"
   ]
  },
  {
   "cell_type": "code",
   "execution_count": null,
   "id": "a3793f7f",
   "metadata": {},
   "outputs": [],
   "source": [
    "a=3\n",
    "b=4\n",
    "if(a==4)\n",
    "else if ()"
   ]
  }
 ],
 "metadata": {
  "kernelspec": {
   "display_name": "Python 3 (ipykernel)",
   "language": "python",
   "name": "python3"
  },
  "language_info": {
   "codemirror_mode": {
    "name": "ipython",
    "version": 3
   },
   "file_extension": ".py",
   "mimetype": "text/x-python",
   "name": "python",
   "nbconvert_exporter": "python",
   "pygments_lexer": "ipython3",
   "version": "3.9.13"
  }
 },
 "nbformat": 4,
 "nbformat_minor": 5
}
